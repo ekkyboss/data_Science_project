{
 "cells": [
  {
   "cell_type": "markdown",
   "id": "e2649cc9",
   "metadata": {},
   "source": [
    "# AFRICA-GDP-POPULATION\n",
    "\n",
    "In this notebook, I'm going to be analysing Africa with a primary goal of obtaining insights in the population change and how it has affected the GDP over time. "
   ]
  },
  {
   "cell_type": "markdown",
   "id": "5bda74b3",
   "metadata": {},
   "source": [
    "By The end of the analysis, I'll answer the following question\n",
    "    \n",
    "     > How does population affect GDP\n",
    "     > Which Geographical area has the best GDP per population"
   ]
  },
  {
   "cell_type": "code",
   "execution_count": 1,
   "id": "53ea4081",
   "metadata": {},
   "outputs": [
    {
     "name": "stdout",
     "output_type": "stream",
     "text": [
      "C:\\Users\\user\\Desktop\\Portfolio Datasets\n"
     ]
    }
   ],
   "source": [
    "cd C:/Users/user/Desktop/Portfolio Datasets"
   ]
  },
  {
   "cell_type": "code",
   "execution_count": 2,
   "id": "02ccd150",
   "metadata": {},
   "outputs": [],
   "source": [
    "import pandas as pd\n",
    "import numpy as np\n",
    "import matplotlib.pyplot as plt\n",
    "import seaborn as sns"
   ]
  },
  {
   "cell_type": "code",
   "execution_count": 3,
   "id": "21372f47",
   "metadata": {},
   "outputs": [],
   "source": [
    "Africa= pd.read_csv('Data_Africa.csv')"
   ]
  },
  {
   "cell_type": "code",
   "execution_count": 4,
   "id": "ddfc2684",
   "metadata": {},
   "outputs": [
    {
     "data": {
      "text/html": [
       "<div>\n",
       "<style scoped>\n",
       "    .dataframe tbody tr th:only-of-type {\n",
       "        vertical-align: middle;\n",
       "    }\n",
       "\n",
       "    .dataframe tbody tr th {\n",
       "        vertical-align: top;\n",
       "    }\n",
       "\n",
       "    .dataframe thead th {\n",
       "        text-align: right;\n",
       "    }\n",
       "</style>\n",
       "<table border=\"1\" class=\"dataframe\">\n",
       "  <thead>\n",
       "    <tr style=\"text-align: right;\">\n",
       "      <th></th>\n",
       "      <th>ID</th>\n",
       "      <th>Year</th>\n",
       "      <th>Country</th>\n",
       "      <th>Region</th>\n",
       "      <th>Population</th>\n",
       "      <th>GDP (USD)</th>\n",
       "    </tr>\n",
       "  </thead>\n",
       "  <tbody>\n",
       "    <tr>\n",
       "      <th>0</th>\n",
       "      <td>1</td>\n",
       "      <td>2000</td>\n",
       "      <td>Uganda</td>\n",
       "      <td>East Africa</td>\n",
       "      <td>23303189</td>\n",
       "      <td>6.193247e+09</td>\n",
       "    </tr>\n",
       "    <tr>\n",
       "      <th>1</th>\n",
       "      <td>2</td>\n",
       "      <td>2001</td>\n",
       "      <td>Uganda</td>\n",
       "      <td>East Africa</td>\n",
       "      <td>24022603</td>\n",
       "      <td>5.840504e+09</td>\n",
       "    </tr>\n",
       "    <tr>\n",
       "      <th>2</th>\n",
       "      <td>3</td>\n",
       "      <td>2002</td>\n",
       "      <td>Uganda</td>\n",
       "      <td>East Africa</td>\n",
       "      <td>24781316</td>\n",
       "      <td>5.840504e+09</td>\n",
       "    </tr>\n",
       "    <tr>\n",
       "      <th>3</th>\n",
       "      <td>4</td>\n",
       "      <td>2003</td>\n",
       "      <td>Uganda</td>\n",
       "      <td>East Africa</td>\n",
       "      <td>25577246</td>\n",
       "      <td>6.606884e+09</td>\n",
       "    </tr>\n",
       "    <tr>\n",
       "      <th>4</th>\n",
       "      <td>5</td>\n",
       "      <td>2004</td>\n",
       "      <td>Uganda</td>\n",
       "      <td>East Africa</td>\n",
       "      <td>26403221</td>\n",
       "      <td>7.939488e+09</td>\n",
       "    </tr>\n",
       "    <tr>\n",
       "      <th>...</th>\n",
       "      <td>...</td>\n",
       "      <td>...</td>\n",
       "      <td>...</td>\n",
       "      <td>...</td>\n",
       "      <td>...</td>\n",
       "      <td>...</td>\n",
       "    </tr>\n",
       "    <tr>\n",
       "      <th>1174</th>\n",
       "      <td>1330</td>\n",
       "      <td>2018</td>\n",
       "      <td>Togo</td>\n",
       "      <td>West Africa</td>\n",
       "      <td>7794569</td>\n",
       "      <td>7.029218e+09</td>\n",
       "    </tr>\n",
       "    <tr>\n",
       "      <th>1175</th>\n",
       "      <td>1331</td>\n",
       "      <td>2019</td>\n",
       "      <td>Togo</td>\n",
       "      <td>West Africa</td>\n",
       "      <td>7986521</td>\n",
       "      <td>6.992656e+09</td>\n",
       "    </tr>\n",
       "    <tr>\n",
       "      <th>1176</th>\n",
       "      <td>1332</td>\n",
       "      <td>2020</td>\n",
       "      <td>Togo</td>\n",
       "      <td>West Africa</td>\n",
       "      <td>8181085</td>\n",
       "      <td>7.389329e+09</td>\n",
       "    </tr>\n",
       "    <tr>\n",
       "      <th>1177</th>\n",
       "      <td>1333</td>\n",
       "      <td>2021</td>\n",
       "      <td>Togo</td>\n",
       "      <td>West Africa</td>\n",
       "      <td>8399356</td>\n",
       "      <td>8.334047e+09</td>\n",
       "    </tr>\n",
       "    <tr>\n",
       "      <th>1178</th>\n",
       "      <td>1334</td>\n",
       "      <td>2022</td>\n",
       "      <td>Togo</td>\n",
       "      <td>West Africa</td>\n",
       "      <td>8623451</td>\n",
       "      <td>8.126439e+09</td>\n",
       "    </tr>\n",
       "  </tbody>\n",
       "</table>\n",
       "<p>1179 rows × 6 columns</p>\n",
       "</div>"
      ],
      "text/plain": [
       "        ID  Year Country       Region  Population      GDP (USD)\n",
       "0        1  2000  Uganda  East Africa     23303189  6.193247e+09\n",
       "1        2  2001  Uganda  East Africa     24022603  5.840504e+09\n",
       "2        3  2002  Uganda  East Africa     24781316  5.840504e+09\n",
       "3        4  2003  Uganda  East Africa     25577246  6.606884e+09\n",
       "4        5  2004  Uganda  East Africa     26403221  7.939488e+09\n",
       "...    ...   ...     ...          ...          ...           ...\n",
       "1174  1330  2018    Togo  West Africa      7794569  7.029218e+09\n",
       "1175  1331  2019    Togo  West Africa      7986521  6.992656e+09\n",
       "1176  1332  2020    Togo  West Africa      8181085  7.389329e+09\n",
       "1177  1333  2021    Togo  West Africa      8399356  8.334047e+09\n",
       "1178  1334  2022    Togo  West Africa      8623451  8.126439e+09\n",
       "\n",
       "[1179 rows x 6 columns]"
      ]
     },
     "execution_count": 4,
     "metadata": {},
     "output_type": "execute_result"
    }
   ],
   "source": [
    "Africa"
   ]
  },
  {
   "cell_type": "code",
   "execution_count": 5,
   "id": "89478d72",
   "metadata": {},
   "outputs": [
    {
     "data": {
      "text/plain": [
       "ID               int64\n",
       "Year             int64\n",
       "Country         object\n",
       "Region          object\n",
       "Population       int64\n",
       "GDP (USD)      float64\n",
       "dtype: object"
      ]
     },
     "execution_count": 5,
     "metadata": {},
     "output_type": "execute_result"
    }
   ],
   "source": [
    "Africa.dtypes"
   ]
  },
  {
   "cell_type": "code",
   "execution_count": 6,
   "id": "5b197de6",
   "metadata": {},
   "outputs": [],
   "source": [
    "# Remove trailing whitespace from column names\n",
    "Africa.columns = Africa.columns.str.strip()"
   ]
  },
  {
   "cell_type": "code",
   "execution_count": 7,
   "id": "dc6a7e83",
   "metadata": {},
   "outputs": [],
   "source": [
    "East_Africa= Africa[Africa['Region']=='East Africa']"
   ]
  },
  {
   "cell_type": "code",
   "execution_count": 8,
   "id": "a4248655",
   "metadata": {},
   "outputs": [
    {
     "data": {
      "text/html": [
       "<div>\n",
       "<style scoped>\n",
       "    .dataframe tbody tr th:only-of-type {\n",
       "        vertical-align: middle;\n",
       "    }\n",
       "\n",
       "    .dataframe tbody tr th {\n",
       "        vertical-align: top;\n",
       "    }\n",
       "\n",
       "    .dataframe thead th {\n",
       "        text-align: right;\n",
       "    }\n",
       "</style>\n",
       "<table border=\"1\" class=\"dataframe\">\n",
       "  <thead>\n",
       "    <tr style=\"text-align: right;\">\n",
       "      <th></th>\n",
       "      <th>ID</th>\n",
       "      <th>Year</th>\n",
       "      <th>Country</th>\n",
       "      <th>Region</th>\n",
       "      <th>Population</th>\n",
       "      <th>GDP (USD)</th>\n",
       "    </tr>\n",
       "  </thead>\n",
       "  <tbody>\n",
       "    <tr>\n",
       "      <th>0</th>\n",
       "      <td>1</td>\n",
       "      <td>2000</td>\n",
       "      <td>Uganda</td>\n",
       "      <td>East Africa</td>\n",
       "      <td>23303189</td>\n",
       "      <td>6.193247e+09</td>\n",
       "    </tr>\n",
       "    <tr>\n",
       "      <th>1</th>\n",
       "      <td>2</td>\n",
       "      <td>2001</td>\n",
       "      <td>Uganda</td>\n",
       "      <td>East Africa</td>\n",
       "      <td>24022603</td>\n",
       "      <td>5.840504e+09</td>\n",
       "    </tr>\n",
       "    <tr>\n",
       "      <th>2</th>\n",
       "      <td>3</td>\n",
       "      <td>2002</td>\n",
       "      <td>Uganda</td>\n",
       "      <td>East Africa</td>\n",
       "      <td>24781316</td>\n",
       "      <td>5.840504e+09</td>\n",
       "    </tr>\n",
       "    <tr>\n",
       "      <th>3</th>\n",
       "      <td>4</td>\n",
       "      <td>2003</td>\n",
       "      <td>Uganda</td>\n",
       "      <td>East Africa</td>\n",
       "      <td>25577246</td>\n",
       "      <td>6.606884e+09</td>\n",
       "    </tr>\n",
       "    <tr>\n",
       "      <th>4</th>\n",
       "      <td>5</td>\n",
       "      <td>2004</td>\n",
       "      <td>Uganda</td>\n",
       "      <td>East Africa</td>\n",
       "      <td>26403221</td>\n",
       "      <td>7.939488e+09</td>\n",
       "    </tr>\n",
       "  </tbody>\n",
       "</table>\n",
       "</div>"
      ],
      "text/plain": [
       "   ID  Year Country       Region  Population     GDP (USD)\n",
       "0   1  2000  Uganda  East Africa    23303189  6.193247e+09\n",
       "1   2  2001  Uganda  East Africa    24022603  5.840504e+09\n",
       "2   3  2002  Uganda  East Africa    24781316  5.840504e+09\n",
       "3   4  2003  Uganda  East Africa    25577246  6.606884e+09\n",
       "4   5  2004  Uganda  East Africa    26403221  7.939488e+09"
      ]
     },
     "execution_count": 8,
     "metadata": {},
     "output_type": "execute_result"
    }
   ],
   "source": [
    "East_Africa.head()"
   ]
  },
  {
   "cell_type": "code",
   "execution_count": 9,
   "id": "ae3740c0",
   "metadata": {},
   "outputs": [],
   "source": [
    "West_Africa= Africa[Africa['Region']=='West Africa']"
   ]
  },
  {
   "cell_type": "code",
   "execution_count": 10,
   "id": "28cb50e5",
   "metadata": {},
   "outputs": [
    {
     "data": {
      "text/html": [
       "<div>\n",
       "<style scoped>\n",
       "    .dataframe tbody tr th:only-of-type {\n",
       "        vertical-align: middle;\n",
       "    }\n",
       "\n",
       "    .dataframe tbody tr th {\n",
       "        vertical-align: top;\n",
       "    }\n",
       "\n",
       "    .dataframe thead th {\n",
       "        text-align: right;\n",
       "    }\n",
       "</style>\n",
       "<table border=\"1\" class=\"dataframe\">\n",
       "  <thead>\n",
       "    <tr style=\"text-align: right;\">\n",
       "      <th></th>\n",
       "      <th>ID</th>\n",
       "      <th>Year</th>\n",
       "      <th>Country</th>\n",
       "      <th>Region</th>\n",
       "      <th>Population</th>\n",
       "      <th>GDP (USD)</th>\n",
       "    </tr>\n",
       "  </thead>\n",
       "  <tbody>\n",
       "    <tr>\n",
       "      <th>834</th>\n",
       "      <td>944</td>\n",
       "      <td>2000</td>\n",
       "      <td>Benin</td>\n",
       "      <td>West Africa</td>\n",
       "      <td>6765575</td>\n",
       "      <td>3.519991e+09</td>\n",
       "    </tr>\n",
       "    <tr>\n",
       "      <th>835</th>\n",
       "      <td>945</td>\n",
       "      <td>2001</td>\n",
       "      <td>Benin</td>\n",
       "      <td>West Africa</td>\n",
       "      <td>6972203</td>\n",
       "      <td>3.666223e+09</td>\n",
       "    </tr>\n",
       "    <tr>\n",
       "      <th>836</th>\n",
       "      <td>946</td>\n",
       "      <td>2002</td>\n",
       "      <td>Benin</td>\n",
       "      <td>West Africa</td>\n",
       "      <td>7186963</td>\n",
       "      <td>4.194343e+09</td>\n",
       "    </tr>\n",
       "    <tr>\n",
       "      <th>837</th>\n",
       "      <td>947</td>\n",
       "      <td>2003</td>\n",
       "      <td>Benin</td>\n",
       "      <td>West Africa</td>\n",
       "      <td>7408903</td>\n",
       "      <td>5.349258e+09</td>\n",
       "    </tr>\n",
       "    <tr>\n",
       "      <th>838</th>\n",
       "      <td>948</td>\n",
       "      <td>2004</td>\n",
       "      <td>Benin</td>\n",
       "      <td>West Africa</td>\n",
       "      <td>7635906</td>\n",
       "      <td>6.190270e+09</td>\n",
       "    </tr>\n",
       "  </tbody>\n",
       "</table>\n",
       "</div>"
      ],
      "text/plain": [
       "      ID  Year Country       Region  Population     GDP (USD)\n",
       "834  944  2000   Benin  West Africa     6765575  3.519991e+09\n",
       "835  945  2001   Benin  West Africa     6972203  3.666223e+09\n",
       "836  946  2002   Benin  West Africa     7186963  4.194343e+09\n",
       "837  947  2003   Benin  West Africa     7408903  5.349258e+09\n",
       "838  948  2004   Benin  West Africa     7635906  6.190270e+09"
      ]
     },
     "execution_count": 10,
     "metadata": {},
     "output_type": "execute_result"
    }
   ],
   "source": [
    "West_Africa.head()"
   ]
  },
  {
   "cell_type": "code",
   "execution_count": 11,
   "id": "12d22aa0",
   "metadata": {},
   "outputs": [],
   "source": [
    "South_Africa= Africa[Africa['Region']=='South Africa']"
   ]
  },
  {
   "cell_type": "code",
   "execution_count": 12,
   "id": "50393ea3",
   "metadata": {},
   "outputs": [
    {
     "data": {
      "text/html": [
       "<div>\n",
       "<style scoped>\n",
       "    .dataframe tbody tr th:only-of-type {\n",
       "        vertical-align: middle;\n",
       "    }\n",
       "\n",
       "    .dataframe tbody tr th {\n",
       "        vertical-align: top;\n",
       "    }\n",
       "\n",
       "    .dataframe thead th {\n",
       "        text-align: right;\n",
       "    }\n",
       "</style>\n",
       "<table border=\"1\" class=\"dataframe\">\n",
       "  <thead>\n",
       "    <tr style=\"text-align: right;\">\n",
       "      <th></th>\n",
       "      <th>ID</th>\n",
       "      <th>Year</th>\n",
       "      <th>Country</th>\n",
       "      <th>Region</th>\n",
       "      <th>Population</th>\n",
       "      <th>GDP (USD)</th>\n",
       "    </tr>\n",
       "  </thead>\n",
       "  <tbody>\n",
       "    <tr>\n",
       "      <th>92</th>\n",
       "      <td>93</td>\n",
       "      <td>2000</td>\n",
       "      <td>Zimbabwe</td>\n",
       "      <td>South Africa</td>\n",
       "      <td>11852263</td>\n",
       "      <td>6.689958e+09</td>\n",
       "    </tr>\n",
       "    <tr>\n",
       "      <th>93</th>\n",
       "      <td>94</td>\n",
       "      <td>2001</td>\n",
       "      <td>Zimbabwe</td>\n",
       "      <td>South Africa</td>\n",
       "      <td>11902868</td>\n",
       "      <td>6.777385e+09</td>\n",
       "    </tr>\n",
       "    <tr>\n",
       "      <th>94</th>\n",
       "      <td>95</td>\n",
       "      <td>2002</td>\n",
       "      <td>Zimbabwe</td>\n",
       "      <td>South Africa</td>\n",
       "      <td>11939224</td>\n",
       "      <td>6.342116e+09</td>\n",
       "    </tr>\n",
       "    <tr>\n",
       "      <th>95</th>\n",
       "      <td>96</td>\n",
       "      <td>2003</td>\n",
       "      <td>Zimbabwe</td>\n",
       "      <td>South Africa</td>\n",
       "      <td>11968371</td>\n",
       "      <td>5.727592e+09</td>\n",
       "    </tr>\n",
       "    <tr>\n",
       "      <th>96</th>\n",
       "      <td>97</td>\n",
       "      <td>2004</td>\n",
       "      <td>Zimbabwe</td>\n",
       "      <td>South Africa</td>\n",
       "      <td>12001168</td>\n",
       "      <td>5.805598e+09</td>\n",
       "    </tr>\n",
       "  </tbody>\n",
       "</table>\n",
       "</div>"
      ],
      "text/plain": [
       "    ID  Year   Country        Region  Population     GDP (USD)\n",
       "92  93  2000  Zimbabwe  South Africa    11852263  6.689958e+09\n",
       "93  94  2001  Zimbabwe  South Africa    11902868  6.777385e+09\n",
       "94  95  2002  Zimbabwe  South Africa    11939224  6.342116e+09\n",
       "95  96  2003  Zimbabwe  South Africa    11968371  5.727592e+09\n",
       "96  97  2004  Zimbabwe  South Africa    12001168  5.805598e+09"
      ]
     },
     "execution_count": 12,
     "metadata": {},
     "output_type": "execute_result"
    }
   ],
   "source": [
    "South_Africa.head()"
   ]
  },
  {
   "cell_type": "code",
   "execution_count": 13,
   "id": "7c0a852f",
   "metadata": {},
   "outputs": [],
   "source": [
    "North_Africa= Africa[Africa['Region']=='North Africa']"
   ]
  },
  {
   "cell_type": "code",
   "execution_count": 14,
   "id": "9de22f31",
   "metadata": {},
   "outputs": [
    {
     "data": {
      "text/html": [
       "<div>\n",
       "<style scoped>\n",
       "    .dataframe tbody tr th:only-of-type {\n",
       "        vertical-align: middle;\n",
       "    }\n",
       "\n",
       "    .dataframe tbody tr th {\n",
       "        vertical-align: top;\n",
       "    }\n",
       "\n",
       "    .dataframe thead th {\n",
       "        text-align: right;\n",
       "    }\n",
       "</style>\n",
       "<table border=\"1\" class=\"dataframe\">\n",
       "  <thead>\n",
       "    <tr style=\"text-align: right;\">\n",
       "      <th></th>\n",
       "      <th>ID</th>\n",
       "      <th>Year</th>\n",
       "      <th>Country</th>\n",
       "      <th>Region</th>\n",
       "      <th>Population</th>\n",
       "      <th>GDP (USD)</th>\n",
       "    </tr>\n",
       "  </thead>\n",
       "  <tbody>\n",
       "    <tr>\n",
       "      <th>375</th>\n",
       "      <td>461</td>\n",
       "      <td>2000</td>\n",
       "      <td>Sudan</td>\n",
       "      <td>North Africa</td>\n",
       "      <td>26952537</td>\n",
       "      <td>1.225730e+10</td>\n",
       "    </tr>\n",
       "    <tr>\n",
       "      <th>376</th>\n",
       "      <td>462</td>\n",
       "      <td>2001</td>\n",
       "      <td>Sudan</td>\n",
       "      <td>North Africa</td>\n",
       "      <td>27625909</td>\n",
       "      <td>1.571636e+10</td>\n",
       "    </tr>\n",
       "    <tr>\n",
       "      <th>377</th>\n",
       "      <td>463</td>\n",
       "      <td>2002</td>\n",
       "      <td>Sudan</td>\n",
       "      <td>North Africa</td>\n",
       "      <td>28340947</td>\n",
       "      <td>1.813713e+10</td>\n",
       "    </tr>\n",
       "    <tr>\n",
       "      <th>378</th>\n",
       "      <td>464</td>\n",
       "      <td>2003</td>\n",
       "      <td>Sudan</td>\n",
       "      <td>North Africa</td>\n",
       "      <td>29085757</td>\n",
       "      <td>2.135530e+10</td>\n",
       "    </tr>\n",
       "    <tr>\n",
       "      <th>379</th>\n",
       "      <td>465</td>\n",
       "      <td>2004</td>\n",
       "      <td>Sudan</td>\n",
       "      <td>North Africa</td>\n",
       "      <td>29839412</td>\n",
       "      <td>2.664601e+10</td>\n",
       "    </tr>\n",
       "  </tbody>\n",
       "</table>\n",
       "</div>"
      ],
      "text/plain": [
       "      ID  Year Country        Region  Population     GDP (USD)\n",
       "375  461  2000   Sudan  North Africa    26952537  1.225730e+10\n",
       "376  462  2001   Sudan  North Africa    27625909  1.571636e+10\n",
       "377  463  2002   Sudan  North Africa    28340947  1.813713e+10\n",
       "378  464  2003   Sudan  North Africa    29085757  2.135530e+10\n",
       "379  465  2004   Sudan  North Africa    29839412  2.664601e+10"
      ]
     },
     "execution_count": 14,
     "metadata": {},
     "output_type": "execute_result"
    }
   ],
   "source": [
    "North_Africa.head()"
   ]
  },
  {
   "cell_type": "code",
   "execution_count": 15,
   "id": "c27a19bb",
   "metadata": {},
   "outputs": [],
   "source": [
    "Central_Africa= Africa[Africa['Region']=='Central Africa']"
   ]
  },
  {
   "cell_type": "code",
   "execution_count": 16,
   "id": "d4bed478",
   "metadata": {},
   "outputs": [
    {
     "data": {
      "text/html": [
       "<div>\n",
       "<style scoped>\n",
       "    .dataframe tbody tr th:only-of-type {\n",
       "        vertical-align: middle;\n",
       "    }\n",
       "\n",
       "    .dataframe tbody tr th {\n",
       "        vertical-align: top;\n",
       "    }\n",
       "\n",
       "    .dataframe thead th {\n",
       "        text-align: right;\n",
       "    }\n",
       "</style>\n",
       "<table border=\"1\" class=\"dataframe\">\n",
       "  <thead>\n",
       "    <tr style=\"text-align: right;\">\n",
       "      <th></th>\n",
       "      <th>ID</th>\n",
       "      <th>Year</th>\n",
       "      <th>Country</th>\n",
       "      <th>Region</th>\n",
       "      <th>Population</th>\n",
       "      <th>GDP (USD)</th>\n",
       "    </tr>\n",
       "  </thead>\n",
       "  <tbody>\n",
       "    <tr>\n",
       "      <th>628</th>\n",
       "      <td>737</td>\n",
       "      <td>2000</td>\n",
       "      <td>Angola</td>\n",
       "      <td>Central Africa</td>\n",
       "      <td>16132618</td>\n",
       "      <td>9.129595e+09</td>\n",
       "    </tr>\n",
       "    <tr>\n",
       "      <th>629</th>\n",
       "      <td>738</td>\n",
       "      <td>2001</td>\n",
       "      <td>Angola</td>\n",
       "      <td>Central Africa</td>\n",
       "      <td>16672876</td>\n",
       "      <td>8.936079e+09</td>\n",
       "    </tr>\n",
       "    <tr>\n",
       "      <th>630</th>\n",
       "      <td>739</td>\n",
       "      <td>2002</td>\n",
       "      <td>Angola</td>\n",
       "      <td>Central Africa</td>\n",
       "      <td>17234943</td>\n",
       "      <td>1.528559e+10</td>\n",
       "    </tr>\n",
       "    <tr>\n",
       "      <th>631</th>\n",
       "      <td>740</td>\n",
       "      <td>2003</td>\n",
       "      <td>Angola</td>\n",
       "      <td>Central Africa</td>\n",
       "      <td>17822922</td>\n",
       "      <td>1.781270e+10</td>\n",
       "    </tr>\n",
       "    <tr>\n",
       "      <th>632</th>\n",
       "      <td>741</td>\n",
       "      <td>2004</td>\n",
       "      <td>Angola</td>\n",
       "      <td>Central Africa</td>\n",
       "      <td>18441547</td>\n",
       "      <td>2.355206e+10</td>\n",
       "    </tr>\n",
       "  </tbody>\n",
       "</table>\n",
       "</div>"
      ],
      "text/plain": [
       "      ID  Year Country          Region  Population     GDP (USD)\n",
       "628  737  2000  Angola  Central Africa    16132618  9.129595e+09\n",
       "629  738  2001  Angola  Central Africa    16672876  8.936079e+09\n",
       "630  739  2002  Angola  Central Africa    17234943  1.528559e+10\n",
       "631  740  2003  Angola  Central Africa    17822922  1.781270e+10\n",
       "632  741  2004  Angola  Central Africa    18441547  2.355206e+10"
      ]
     },
     "execution_count": 16,
     "metadata": {},
     "output_type": "execute_result"
    }
   ],
   "source": [
    "Central_Africa.head()"
   ]
  },
  {
   "cell_type": "code",
   "execution_count": 17,
   "id": "232b8a82",
   "metadata": {},
   "outputs": [],
   "source": [
    "Avg_EAP = East_Africa.groupby('Country')['Population'].mean()"
   ]
  },
  {
   "cell_type": "code",
   "execution_count": 18,
   "id": "5c527844",
   "metadata": {},
   "outputs": [
    {
     "data": {
      "text/plain": [
       "Country\n",
       "Burundi                9.006936e+06\n",
       "Djibouti               8.550386e+05\n",
       "Eritrea                2.774407e+06\n",
       "Ethiopia               9.027454e+07\n",
       "Kenya                  4.298168e+07\n",
       "Madagascar             2.170947e+07\n",
       "Malawi                 1.501510e+07\n",
       "Mauritius              1.240937e+06\n",
       "Mozambique             2.429160e+07\n",
       "Rwanda                 1.033811e+07\n",
       "Seyshelles             9.142974e+04\n",
       "Somalia                1.462862e+07\n",
       "South Sudan            9.720764e+06\n",
       "Tanzania               4.605497e+07\n",
       "Uganda                 3.398279e+07\n",
       "Union of the Comors    7.058007e+05\n",
       "Zambia                 1.419249e+07\n",
       "Name: Population, dtype: float64"
      ]
     },
     "execution_count": 18,
     "metadata": {},
     "output_type": "execute_result"
    }
   ],
   "source": [
    "Avg_EAP"
   ]
  },
  {
   "cell_type": "code",
   "execution_count": 19,
   "id": "19c05f37",
   "metadata": {},
   "outputs": [],
   "source": [
    "Avg_EAP = Avg_EAP.astype(int)"
   ]
  },
  {
   "cell_type": "code",
   "execution_count": 20,
   "id": "9a215648",
   "metadata": {},
   "outputs": [
    {
     "data": {
      "text/plain": [
       "Country\n",
       "Burundi                 9006936\n",
       "Djibouti                 855038\n",
       "Eritrea                 2774407\n",
       "Ethiopia               90274538\n",
       "Kenya                  42981676\n",
       "Madagascar             21709471\n",
       "Malawi                 15015100\n",
       "Mauritius               1240937\n",
       "Mozambique             24291602\n",
       "Rwanda                 10338114\n",
       "Seyshelles                91429\n",
       "Somalia                14628623\n",
       "South Sudan             9720764\n",
       "Tanzania               46054966\n",
       "Uganda                 33982791\n",
       "Union of the Comors      705800\n",
       "Zambia                 14192486\n",
       "Name: Population, dtype: int32"
      ]
     },
     "execution_count": 20,
     "metadata": {},
     "output_type": "execute_result"
    }
   ],
   "source": [
    "Avg_EAP"
   ]
  },
  {
   "cell_type": "code",
   "execution_count": 21,
   "id": "2a9a8f87",
   "metadata": {},
   "outputs": [
    {
     "data": {
      "image/png": "[encoded data removed]",
      "text/plain": [
       "<Figure size 864x432 with 1 Axes>"
      ]
     },
     "metadata": {
      "needs_background": "light"
     },
     "output_type": "display_data"
    }
   ],
   "source": [
    "from matplotlib.ticker import ScalarFormatter\n",
    "\n",
    "plt.figure(figsize=(12, 6))\n",
    "plt.bar(Avg_EAP.index, Avg_EAP.values, color='orange')\n",
    "plt.xlabel('Country')\n",
    "plt.ylabel('Average Population')\n",
    "plt.title('Average Population by Country in East Africa(2000-2022)')\n",
    "plt.xticks(rotation=90, ha='right')\n",
    "\n",
    "plt.gca().get_yaxis().get_major_formatter().set_scientific(False)\n",
    "\n",
    "plt.tight_layout()\n",
    "plt.show()\n",
    "\n"
   ]
  },
  {
   "cell_type": "code",
   "execution_count": 22,
   "id": "92e32c9d",
   "metadata": {},
   "outputs": [],
   "source": [
    "Avg_EA_GDP= East_Africa.groupby('Country')['GDP (USD)'].mean()"
   ]
  },
  {
   "cell_type": "code",
   "execution_count": 23,
   "id": "a0db12ae",
   "metadata": {},
   "outputs": [
    {
     "data": {
      "text/plain": [
       "Country\n",
       "Burundi                1.973301e+09\n",
       "Djibouti               1.705136e+09\n",
       "Eritrea                1.223861e+09\n",
       "Ethiopia               4.804230e+10\n",
       "Kenya                  5.419857e+10\n",
       "Madagascar             1.012226e+10\n",
       "Malawi                 8.103442e+09\n",
       "Mauritius              9.961793e+09\n",
       "Mozambique             1.212878e+10\n",
       "Rwanda                 6.497117e+09\n",
       "Seyshelles             1.138469e+09\n",
       "Somalia                6.105811e+09\n",
       "South Sudan            1.408061e+10\n",
       "Tanzania               3.790414e+10\n",
       "Uganda                 2.307710e+10\n",
       "Union of the Comors    9.009411e+08\n",
       "Zambia                 1.754562e+10\n",
       "Name: GDP (USD), dtype: float64"
      ]
     },
     "execution_count": 23,
     "metadata": {},
     "output_type": "execute_result"
    }
   ],
   "source": [
    "Avg_EA_GDP"
   ]
  },
  {
   "cell_type": "code",
   "execution_count": 24,
   "id": "3257ad1d",
   "metadata": {},
   "outputs": [],
   "source": [
    "Avg_WAP = West_Africa.groupby('Country')['Population'].mean()"
   ]
  },
  {
   "cell_type": "code",
   "execution_count": 25,
   "id": "a01cb8ad",
   "metadata": {},
   "outputs": [
    {
     "data": {
      "text/plain": [
       "Country\n",
       "Benin            9.465538e+06\n",
       "Burkina Faso     1.613014e+07\n",
       "Cape Verde       4.963719e+05\n",
       "Gambia           1.856237e+06\n",
       "Ghana            2.524071e+07\n",
       "Guinea           1.051616e+07\n",
       "Guinea-Bissau    1.570681e+06\n",
       "Liberia          3.950170e+06\n",
       "Mali             1.549054e+07\n",
       "Mauritania       3.610393e+06\n",
       "Niger            1.738602e+07\n",
       "Nigeria          1.632146e+08\n",
       "Senegal          1.312857e+07\n",
       "Sierra Leone     6.451646e+06\n",
       "Togo             6.589745e+06\n",
       "Name: Population, dtype: float64"
      ]
     },
     "execution_count": 25,
     "metadata": {},
     "output_type": "execute_result"
    }
   ],
   "source": [
    "Avg_WAP"
   ]
  },
  {
   "cell_type": "code",
   "execution_count": 26,
   "id": "d0c13f42",
   "metadata": {},
   "outputs": [
    {
     "data": {
      "text/plain": [
       "Country\n",
       "Benin              9465537\n",
       "Burkina Faso      16130138\n",
       "Cape Verde          496371\n",
       "Gambia             1856236\n",
       "Ghana             25240712\n",
       "Guinea            10516157\n",
       "Guinea-Bissau      1570681\n",
       "Liberia            3950170\n",
       "Mali              15490537\n",
       "Mauritania         3610392\n",
       "Niger             17386022\n",
       "Nigeria          163214618\n",
       "Senegal           13128566\n",
       "Sierra Leone       6451645\n",
       "Togo               6589744\n",
       "Name: Population, dtype: int32"
      ]
     },
     "execution_count": 26,
     "metadata": {},
     "output_type": "execute_result"
    }
   ],
   "source": [
    "Avg_WAP.astype(int)"
   ]
  },
  {
   "cell_type": "code",
   "execution_count": 27,
   "id": "0fb468d4",
   "metadata": {},
   "outputs": [
    {
     "data": {
      "image/png": "[encoded data removed]",
      "text/plain": [
       "<Figure size 864x432 with 1 Axes>"
      ]
     },
     "metadata": {
      "needs_background": "light"
     },
     "output_type": "display_data"
    }
   ],
   "source": [
    "from matplotlib.ticker import ScalarFormatter\n",
    "\n",
    "plt.figure(figsize=(12, 6))\n",
    "plt.bar(Avg_WAP.index, Avg_WAP.values, color='green')\n",
    "plt.xlabel('Country')\n",
    "plt.ylabel('Average Population')\n",
    "plt.title('Average Population by Country in West Africa(2000-2022)')\n",
    "plt.xticks(rotation=90, ha='right')\n",
    "\n",
    "plt.gca().get_yaxis().get_major_formatter().set_scientific(False)\n",
    "\n",
    "plt.tight_layout()\n",
    "plt.show()"
   ]
  },
  {
   "cell_type": "code",
   "execution_count": 28,
   "id": "1a81bcc0",
   "metadata": {},
   "outputs": [],
   "source": [
    "Avg_SAP = South_Africa.groupby('Country')['Population'].mean()"
   ]
  },
  {
   "cell_type": "code",
   "execution_count": 29,
   "id": "5d230db3",
   "metadata": {},
   "outputs": [
    {
     "data": {
      "text/plain": [
       "Country\n",
       "Botswana        1.996442e+06\n",
       "Eswatini        1.111247e+06\n",
       "Lesotho         2.045420e+06\n",
       "Namibia         2.159012e+06\n",
       "South Africa    5.205890e+07\n",
       "Zimbabwe        1.312231e+07\n",
       "Name: Population, dtype: float64"
      ]
     },
     "execution_count": 29,
     "metadata": {},
     "output_type": "execute_result"
    }
   ],
   "source": [
    "Avg_SAP"
   ]
  },
  {
   "cell_type": "code",
   "execution_count": 30,
   "id": "6e369eb3",
   "metadata": {},
   "outputs": [
    {
     "data": {
      "text/plain": [
       "Country\n",
       "Botswana         1996442\n",
       "Eswatini         1111246\n",
       "Lesotho          2045420\n",
       "Namibia          2159012\n",
       "South Africa    52058902\n",
       "Zimbabwe        13122306\n",
       "Name: Population, dtype: int32"
      ]
     },
     "execution_count": 30,
     "metadata": {},
     "output_type": "execute_result"
    }
   ],
   "source": [
    "Avg_SAP.astype(int)"
   ]
  },
  {
   "cell_type": "code",
   "execution_count": 31,
   "id": "cc8fe900",
   "metadata": {},
   "outputs": [
    {
     "data": {
      "image/png": "[encoded data removed]",
      "text/plain": [
       "<Figure size 864x432 with 1 Axes>"
      ]
     },
     "metadata": {
      "needs_background": "light"
     },
     "output_type": "display_data"
    }
   ],
   "source": [
    "from matplotlib.ticker import ScalarFormatter\n",
    "\n",
    "plt.figure(figsize=(12, 6))\n",
    "plt.bar(Avg_SAP.index, Avg_SAP.values, color='#ADD8E6')\n",
    "plt.xlabel('Country')\n",
    "plt.ylabel('Average Population')\n",
    "plt.title('Average Population by Country in South Africa(2000-2022)')\n",
    "plt.xticks(rotation=90, ha='right')\n",
    "\n",
    "plt.gca().get_yaxis().get_major_formatter().set_scientific(False)\n",
    "\n",
    "plt.tight_layout()\n",
    "plt.show()"
   ]
  },
  {
   "cell_type": "code",
   "execution_count": 32,
   "id": "22156008",
   "metadata": {},
   "outputs": [],
   "source": [
    "Avg_CAP= Central_Africa.groupby('Country')['Population'].mean()"
   ]
  },
  {
   "cell_type": "code",
   "execution_count": 33,
   "id": "566aff4f",
   "metadata": {},
   "outputs": [
    {
     "data": {
      "text/plain": [
       "Country\n",
       "Angola                              2.433104e+07\n",
       "Cameroon                            2.092400e+07\n",
       "Central African Republic            4.313878e+06\n",
       "Chad                                1.237567e+07\n",
       "Democratic Republic of the Congo    6.730711e+07\n",
       "Equatorial Guinea                   9.898833e+05\n",
       "Gabon                               1.702812e+06\n",
       "Republic of the Congo               4.334470e+06\n",
       "Sao Tome and Principe               1.834128e+05\n",
       "Name: Population, dtype: float64"
      ]
     },
     "execution_count": 33,
     "metadata": {},
     "output_type": "execute_result"
    }
   ],
   "source": [
    "Avg_CAP"
   ]
  },
  {
   "cell_type": "code",
   "execution_count": 34,
   "id": "3eea13f1",
   "metadata": {},
   "outputs": [
    {
     "data": {
      "text/plain": [
       "Country\n",
       "Angola                              24331043\n",
       "Cameroon                            20923995\n",
       "Central African Republic             4313878\n",
       "Chad                                12375667\n",
       "Democratic Republic of the Congo    67307111\n",
       "Equatorial Guinea                     989883\n",
       "Gabon                                1702811\n",
       "Republic of the Congo                4334469\n",
       "Sao Tome and Principe                 183412\n",
       "Name: Population, dtype: int32"
      ]
     },
     "execution_count": 34,
     "metadata": {},
     "output_type": "execute_result"
    }
   ],
   "source": [
    "Avg_CAP.astype(int)"
   ]
  },
  {
   "cell_type": "code",
   "execution_count": 35,
   "id": "5909508b",
   "metadata": {},
   "outputs": [
    {
     "data": {
      "image/png": "[encoded data removed]",
      "text/plain": [
       "<Figure size 864x432 with 1 Axes>"
      ]
     },
     "metadata": {
      "needs_background": "light"
     },
     "output_type": "display_data"
    }
   ],
   "source": [
    "from matplotlib.ticker import ScalarFormatter\n",
    "\n",
    "plt.figure(figsize=(12, 6))\n",
    "plt.bar(Avg_CAP.index, Avg_CAP.values)\n",
    "plt.xlabel('Country')\n",
    "plt.ylabel('Average Population')\n",
    "plt.title('Average Population by Country in Central Africa(2000-2022)')\n",
    "plt.xticks(rotation=90, ha='right')\n",
    "\n",
    "plt.gca().get_yaxis().get_major_formatter().set_scientific(False)\n",
    "\n",
    "plt.tight_layout()\n",
    "plt.show()"
   ]
  },
  {
   "cell_type": "code",
   "execution_count": 36,
   "id": "deb4942f",
   "metadata": {},
   "outputs": [],
   "source": [
    "Avg_NAP= North_Africa.groupby('Country')['Population'].mean()"
   ]
  },
  {
   "cell_type": "code",
   "execution_count": 37,
   "id": "a840f346",
   "metadata": {},
   "outputs": [
    {
     "data": {
      "text/plain": [
       "Country\n",
       "Algeria    37003271\n",
       "Egypt      85131517\n",
       "Libya       6157103\n",
       "Morocco    32822588\n",
       "Sudan      35458973\n",
       "Tunisia    10736824\n",
       "Name: Population, dtype: int32"
      ]
     },
     "execution_count": 37,
     "metadata": {},
     "output_type": "execute_result"
    }
   ],
   "source": [
    "Avg_NAP.astype(int)"
   ]
  },
  {
   "cell_type": "code",
   "execution_count": 38,
   "id": "f226dd79",
   "metadata": {},
   "outputs": [
    {
     "data": {
      "image/png": "[encoded data removed]",
      "text/plain": [
       "<Figure size 864x432 with 1 Axes>"
      ]
     },
     "metadata": {
      "needs_background": "light"
     },
     "output_type": "display_data"
    }
   ],
   "source": [
    "from matplotlib.ticker import ScalarFormatter\n",
    "\n",
    "plt.figure(figsize=(12, 6))\n",
    "plt.bar(Avg_NAP.index, Avg_NAP.values, color='red')\n",
    "plt.xlabel('Country')\n",
    "plt.ylabel('Average Population')\n",
    "plt.title('Average Population by Country in North Africa(2000-2022)')\n",
    "plt.xticks(rotation=90, ha='right')\n",
    "\n",
    "plt.gca().get_yaxis().get_major_formatter().set_scientific(False)\n",
    "\n",
    "plt.tight_layout()\n",
    "plt.show()"
   ]
  },
  {
   "cell_type": "code",
   "execution_count": 39,
   "id": "e1a69bfd",
   "metadata": {},
   "outputs": [],
   "source": [
    "Average_Regional_GDP= Africa.groupby(['Region','Year'])['GDP (USD)'].mean()"
   ]
  },
  {
   "cell_type": "code",
   "execution_count": 40,
   "id": "eb28a1e1",
   "metadata": {
    "scrolled": true
   },
   "outputs": [
    {
     "data": {
      "text/plain": [
       "Region          Year\n",
       "Central Africa  2000    6.305489e+09\n",
       "                2001    4.369812e+09\n",
       "                2002    5.520619e+09\n",
       "                2003    6.578686e+09\n",
       "                2004    8.369279e+09\n",
       "                            ...     \n",
       "West Africa     2018    4.076231e+10\n",
       "                2019    4.456289e+10\n",
       "                2020    4.225101e+10\n",
       "                2021    4.447738e+10\n",
       "                2022    4.672766e+10\n",
       "Name: GDP (USD), Length: 115, dtype: float64"
      ]
     },
     "execution_count": 40,
     "metadata": {},
     "output_type": "execute_result"
    }
   ],
   "source": [
    "Average_Regional_GDP"
   ]
  },
  {
   "cell_type": "code",
   "execution_count": 41,
   "id": "0ca9d49a",
   "metadata": {},
   "outputs": [],
   "source": [
    "Average_Regional_GDP = Average_Regional_GDP.reset_index()\n"
   ]
  },
  {
   "cell_type": "code",
   "execution_count": 42,
   "id": "b5dbd0fa",
   "metadata": {},
   "outputs": [
    {
     "data": {
      "text/html": [
       "<div>\n",
       "<style scoped>\n",
       "    .dataframe tbody tr th:only-of-type {\n",
       "        vertical-align: middle;\n",
       "    }\n",
       "\n",
       "    .dataframe tbody tr th {\n",
       "        vertical-align: top;\n",
       "    }\n",
       "\n",
       "    .dataframe thead th {\n",
       "        text-align: right;\n",
       "    }\n",
       "</style>\n",
       "<table border=\"1\" class=\"dataframe\">\n",
       "  <thead>\n",
       "    <tr style=\"text-align: right;\">\n",
       "      <th></th>\n",
       "      <th>Region</th>\n",
       "      <th>Year</th>\n",
       "      <th>GDP (USD)</th>\n",
       "    </tr>\n",
       "  </thead>\n",
       "  <tbody>\n",
       "    <tr>\n",
       "      <th>0</th>\n",
       "      <td>Central Africa</td>\n",
       "      <td>2000</td>\n",
       "      <td>6.305489e+09</td>\n",
       "    </tr>\n",
       "    <tr>\n",
       "      <th>1</th>\n",
       "      <td>Central Africa</td>\n",
       "      <td>2001</td>\n",
       "      <td>4.369812e+09</td>\n",
       "    </tr>\n",
       "    <tr>\n",
       "      <th>2</th>\n",
       "      <td>Central Africa</td>\n",
       "      <td>2002</td>\n",
       "      <td>5.520619e+09</td>\n",
       "    </tr>\n",
       "    <tr>\n",
       "      <th>3</th>\n",
       "      <td>Central Africa</td>\n",
       "      <td>2003</td>\n",
       "      <td>6.578686e+09</td>\n",
       "    </tr>\n",
       "    <tr>\n",
       "      <th>4</th>\n",
       "      <td>Central Africa</td>\n",
       "      <td>2004</td>\n",
       "      <td>8.369279e+09</td>\n",
       "    </tr>\n",
       "    <tr>\n",
       "      <th>...</th>\n",
       "      <td>...</td>\n",
       "      <td>...</td>\n",
       "      <td>...</td>\n",
       "    </tr>\n",
       "    <tr>\n",
       "      <th>110</th>\n",
       "      <td>West Africa</td>\n",
       "      <td>2018</td>\n",
       "      <td>4.076231e+10</td>\n",
       "    </tr>\n",
       "    <tr>\n",
       "      <th>111</th>\n",
       "      <td>West Africa</td>\n",
       "      <td>2019</td>\n",
       "      <td>4.456289e+10</td>\n",
       "    </tr>\n",
       "    <tr>\n",
       "      <th>112</th>\n",
       "      <td>West Africa</td>\n",
       "      <td>2020</td>\n",
       "      <td>4.225101e+10</td>\n",
       "    </tr>\n",
       "    <tr>\n",
       "      <th>113</th>\n",
       "      <td>West Africa</td>\n",
       "      <td>2021</td>\n",
       "      <td>4.447738e+10</td>\n",
       "    </tr>\n",
       "    <tr>\n",
       "      <th>114</th>\n",
       "      <td>West Africa</td>\n",
       "      <td>2022</td>\n",
       "      <td>4.672766e+10</td>\n",
       "    </tr>\n",
       "  </tbody>\n",
       "</table>\n",
       "<p>115 rows × 3 columns</p>\n",
       "</div>"
      ],
      "text/plain": [
       "             Region  Year     GDP (USD)\n",
       "0    Central Africa  2000  6.305489e+09\n",
       "1    Central Africa  2001  4.369812e+09\n",
       "2    Central Africa  2002  5.520619e+09\n",
       "3    Central Africa  2003  6.578686e+09\n",
       "4    Central Africa  2004  8.369279e+09\n",
       "..              ...   ...           ...\n",
       "110     West Africa  2018  4.076231e+10\n",
       "111     West Africa  2019  4.456289e+10\n",
       "112     West Africa  2020  4.225101e+10\n",
       "113     West Africa  2021  4.447738e+10\n",
       "114     West Africa  2022  4.672766e+10\n",
       "\n",
       "[115 rows x 3 columns]"
      ]
     },
     "execution_count": 42,
     "metadata": {},
     "output_type": "execute_result"
    }
   ],
   "source": [
    "Average_Regional_GDP"
   ]
  },
  {
   "cell_type": "code",
   "execution_count": 43,
   "id": "d17133d5",
   "metadata": {},
   "outputs": [
    {
     "data": {
      "text/plain": [
       "4369811760.705555"
      ]
     },
     "execution_count": 43,
     "metadata": {},
     "output_type": "execute_result"
    }
   ],
   "source": [
    "Average_Regional_GDP['GDP (USD)'].min()"
   ]
  },
  {
   "cell_type": "code",
   "execution_count": 44,
   "id": "79a4d2ba",
   "metadata": {},
   "outputs": [],
   "source": [
    "#Since the lowest GDP is more than a billion we'll be using billion"
   ]
  },
  {
   "cell_type": "code",
   "execution_count": 45,
   "id": "74e36a67",
   "metadata": {},
   "outputs": [],
   "source": [
    "Average_Regional_GDP['GDP (USD)']= Average_Regional_GDP['GDP (USD)']/1000000000"
   ]
  },
  {
   "cell_type": "code",
   "execution_count": 46,
   "id": "3b0f7b8d",
   "metadata": {},
   "outputs": [],
   "source": [
    "Average_Regional_GDP.columns =['Region','Year', 'GDP (billion USD)']"
   ]
  },
  {
   "cell_type": "code",
   "execution_count": 47,
   "id": "394dc64f",
   "metadata": {},
   "outputs": [
    {
     "data": {
      "text/html": [
       "<div>\n",
       "<style scoped>\n",
       "    .dataframe tbody tr th:only-of-type {\n",
       "        vertical-align: middle;\n",
       "    }\n",
       "\n",
       "    .dataframe tbody tr th {\n",
       "        vertical-align: top;\n",
       "    }\n",
       "\n",
       "    .dataframe thead th {\n",
       "        text-align: right;\n",
       "    }\n",
       "</style>\n",
       "<table border=\"1\" class=\"dataframe\">\n",
       "  <thead>\n",
       "    <tr style=\"text-align: right;\">\n",
       "      <th></th>\n",
       "      <th>Region</th>\n",
       "      <th>Year</th>\n",
       "      <th>GDP (billion USD)</th>\n",
       "    </tr>\n",
       "  </thead>\n",
       "  <tbody>\n",
       "    <tr>\n",
       "      <th>0</th>\n",
       "      <td>Central Africa</td>\n",
       "      <td>2000</td>\n",
       "      <td>6.305489</td>\n",
       "    </tr>\n",
       "    <tr>\n",
       "      <th>1</th>\n",
       "      <td>Central Africa</td>\n",
       "      <td>2001</td>\n",
       "      <td>4.369812</td>\n",
       "    </tr>\n",
       "    <tr>\n",
       "      <th>2</th>\n",
       "      <td>Central Africa</td>\n",
       "      <td>2002</td>\n",
       "      <td>5.520619</td>\n",
       "    </tr>\n",
       "    <tr>\n",
       "      <th>3</th>\n",
       "      <td>Central Africa</td>\n",
       "      <td>2003</td>\n",
       "      <td>6.578686</td>\n",
       "    </tr>\n",
       "    <tr>\n",
       "      <th>4</th>\n",
       "      <td>Central Africa</td>\n",
       "      <td>2004</td>\n",
       "      <td>8.369279</td>\n",
       "    </tr>\n",
       "    <tr>\n",
       "      <th>...</th>\n",
       "      <td>...</td>\n",
       "      <td>...</td>\n",
       "      <td>...</td>\n",
       "    </tr>\n",
       "    <tr>\n",
       "      <th>110</th>\n",
       "      <td>West Africa</td>\n",
       "      <td>2018</td>\n",
       "      <td>40.762313</td>\n",
       "    </tr>\n",
       "    <tr>\n",
       "      <th>111</th>\n",
       "      <td>West Africa</td>\n",
       "      <td>2019</td>\n",
       "      <td>44.562889</td>\n",
       "    </tr>\n",
       "    <tr>\n",
       "      <th>112</th>\n",
       "      <td>West Africa</td>\n",
       "      <td>2020</td>\n",
       "      <td>42.251006</td>\n",
       "    </tr>\n",
       "    <tr>\n",
       "      <th>113</th>\n",
       "      <td>West Africa</td>\n",
       "      <td>2021</td>\n",
       "      <td>44.477382</td>\n",
       "    </tr>\n",
       "    <tr>\n",
       "      <th>114</th>\n",
       "      <td>West Africa</td>\n",
       "      <td>2022</td>\n",
       "      <td>46.727657</td>\n",
       "    </tr>\n",
       "  </tbody>\n",
       "</table>\n",
       "<p>115 rows × 3 columns</p>\n",
       "</div>"
      ],
      "text/plain": [
       "             Region  Year  GDP (billion USD)\n",
       "0    Central Africa  2000           6.305489\n",
       "1    Central Africa  2001           4.369812\n",
       "2    Central Africa  2002           5.520619\n",
       "3    Central Africa  2003           6.578686\n",
       "4    Central Africa  2004           8.369279\n",
       "..              ...   ...                ...\n",
       "110     West Africa  2018          40.762313\n",
       "111     West Africa  2019          44.562889\n",
       "112     West Africa  2020          42.251006\n",
       "113     West Africa  2021          44.477382\n",
       "114     West Africa  2022          46.727657\n",
       "\n",
       "[115 rows x 3 columns]"
      ]
     },
     "execution_count": 47,
     "metadata": {},
     "output_type": "execute_result"
    }
   ],
   "source": [
    "Average_Regional_GDP"
   ]
  },
  {
   "cell_type": "code",
   "execution_count": 48,
   "id": "8a5d5ef8",
   "metadata": {},
   "outputs": [],
   "source": [
    "Average_Regional_Population= Africa.groupby(['Region','Year'])['Population'].mean()"
   ]
  },
  {
   "cell_type": "code",
   "execution_count": 49,
   "id": "0097b146",
   "metadata": {},
   "outputs": [],
   "source": [
    "Average_Regional_Population=Average_Regional_Population.reset_index()"
   ]
  },
  {
   "cell_type": "code",
   "execution_count": 50,
   "id": "738129de",
   "metadata": {},
   "outputs": [
    {
     "data": {
      "text/html": [
       "<div>\n",
       "<style scoped>\n",
       "    .dataframe tbody tr th:only-of-type {\n",
       "        vertical-align: middle;\n",
       "    }\n",
       "\n",
       "    .dataframe tbody tr th {\n",
       "        vertical-align: top;\n",
       "    }\n",
       "\n",
       "    .dataframe thead th {\n",
       "        text-align: right;\n",
       "    }\n",
       "</style>\n",
       "<table border=\"1\" class=\"dataframe\">\n",
       "  <thead>\n",
       "    <tr style=\"text-align: right;\">\n",
       "      <th></th>\n",
       "      <th>Region</th>\n",
       "      <th>Year</th>\n",
       "      <th>Population</th>\n",
       "    </tr>\n",
       "  </thead>\n",
       "  <tbody>\n",
       "    <tr>\n",
       "      <th>0</th>\n",
       "      <td>Central Africa</td>\n",
       "      <td>2000</td>\n",
       "      <td>1.183235e+07</td>\n",
       "    </tr>\n",
       "    <tr>\n",
       "      <th>1</th>\n",
       "      <td>Central Africa</td>\n",
       "      <td>2001</td>\n",
       "      <td>1.083858e+07</td>\n",
       "    </tr>\n",
       "    <tr>\n",
       "      <th>2</th>\n",
       "      <td>Central Africa</td>\n",
       "      <td>2002</td>\n",
       "      <td>1.116417e+07</td>\n",
       "    </tr>\n",
       "    <tr>\n",
       "      <th>3</th>\n",
       "      <td>Central Africa</td>\n",
       "      <td>2003</td>\n",
       "      <td>1.150932e+07</td>\n",
       "    </tr>\n",
       "    <tr>\n",
       "      <th>4</th>\n",
       "      <td>Central Africa</td>\n",
       "      <td>2004</td>\n",
       "      <td>1.187229e+07</td>\n",
       "    </tr>\n",
       "    <tr>\n",
       "      <th>...</th>\n",
       "      <td>...</td>\n",
       "      <td>...</td>\n",
       "      <td>...</td>\n",
       "    </tr>\n",
       "    <tr>\n",
       "      <th>110</th>\n",
       "      <td>West Africa</td>\n",
       "      <td>2018</td>\n",
       "      <td>2.343069e+07</td>\n",
       "    </tr>\n",
       "    <tr>\n",
       "      <th>111</th>\n",
       "      <td>West Africa</td>\n",
       "      <td>2019</td>\n",
       "      <td>2.406412e+07</td>\n",
       "    </tr>\n",
       "    <tr>\n",
       "      <th>112</th>\n",
       "      <td>West Africa</td>\n",
       "      <td>2020</td>\n",
       "      <td>2.470826e+07</td>\n",
       "    </tr>\n",
       "    <tr>\n",
       "      <th>113</th>\n",
       "      <td>West Africa</td>\n",
       "      <td>2021</td>\n",
       "      <td>2.539215e+07</td>\n",
       "    </tr>\n",
       "    <tr>\n",
       "      <th>114</th>\n",
       "      <td>West Africa</td>\n",
       "      <td>2022</td>\n",
       "      <td>2.609530e+07</td>\n",
       "    </tr>\n",
       "  </tbody>\n",
       "</table>\n",
       "<p>115 rows × 3 columns</p>\n",
       "</div>"
      ],
      "text/plain": [
       "             Region  Year    Population\n",
       "0    Central Africa  2000  1.183235e+07\n",
       "1    Central Africa  2001  1.083858e+07\n",
       "2    Central Africa  2002  1.116417e+07\n",
       "3    Central Africa  2003  1.150932e+07\n",
       "4    Central Africa  2004  1.187229e+07\n",
       "..              ...   ...           ...\n",
       "110     West Africa  2018  2.343069e+07\n",
       "111     West Africa  2019  2.406412e+07\n",
       "112     West Africa  2020  2.470826e+07\n",
       "113     West Africa  2021  2.539215e+07\n",
       "114     West Africa  2022  2.609530e+07\n",
       "\n",
       "[115 rows x 3 columns]"
      ]
     },
     "execution_count": 50,
     "metadata": {},
     "output_type": "execute_result"
    }
   ],
   "source": [
    "Average_Regional_Population"
   ]
  },
  {
   "cell_type": "code",
   "execution_count": 51,
   "id": "cea3c837",
   "metadata": {},
   "outputs": [
    {
     "data": {
      "text/plain": [
       "Region         Central Africa\n",
       "Year                     2000\n",
       "Population    10494935.166667\n",
       "dtype: object"
      ]
     },
     "execution_count": 51,
     "metadata": {},
     "output_type": "execute_result"
    }
   ],
   "source": [
    "Average_Regional_Population.min()"
   ]
  },
  {
   "cell_type": "code",
   "execution_count": 52,
   "id": "15cabdff",
   "metadata": {},
   "outputs": [],
   "source": [
    "Average_Regional_Population['Population']= Average_Regional_Population['Population']/1000000"
   ]
  },
  {
   "cell_type": "code",
   "execution_count": 53,
   "id": "9c695a0a",
   "metadata": {},
   "outputs": [],
   "source": [
    "Average_Regional_Population.columns =['Region','Year', 'Population (million)']"
   ]
  },
  {
   "cell_type": "code",
   "execution_count": 54,
   "id": "f4d4bdd3",
   "metadata": {},
   "outputs": [
    {
     "data": {
      "text/html": [
       "<div>\n",
       "<style scoped>\n",
       "    .dataframe tbody tr th:only-of-type {\n",
       "        vertical-align: middle;\n",
       "    }\n",
       "\n",
       "    .dataframe tbody tr th {\n",
       "        vertical-align: top;\n",
       "    }\n",
       "\n",
       "    .dataframe thead th {\n",
       "        text-align: right;\n",
       "    }\n",
       "</style>\n",
       "<table border=\"1\" class=\"dataframe\">\n",
       "  <thead>\n",
       "    <tr style=\"text-align: right;\">\n",
       "      <th></th>\n",
       "      <th>Region</th>\n",
       "      <th>Year</th>\n",
       "      <th>Population (million)</th>\n",
       "    </tr>\n",
       "  </thead>\n",
       "  <tbody>\n",
       "    <tr>\n",
       "      <th>0</th>\n",
       "      <td>Central Africa</td>\n",
       "      <td>2000</td>\n",
       "      <td>11.832351</td>\n",
       "    </tr>\n",
       "    <tr>\n",
       "      <th>1</th>\n",
       "      <td>Central Africa</td>\n",
       "      <td>2001</td>\n",
       "      <td>10.838584</td>\n",
       "    </tr>\n",
       "    <tr>\n",
       "      <th>2</th>\n",
       "      <td>Central Africa</td>\n",
       "      <td>2002</td>\n",
       "      <td>11.164167</td>\n",
       "    </tr>\n",
       "    <tr>\n",
       "      <th>3</th>\n",
       "      <td>Central Africa</td>\n",
       "      <td>2003</td>\n",
       "      <td>11.509321</td>\n",
       "    </tr>\n",
       "    <tr>\n",
       "      <th>4</th>\n",
       "      <td>Central Africa</td>\n",
       "      <td>2004</td>\n",
       "      <td>11.872288</td>\n",
       "    </tr>\n",
       "    <tr>\n",
       "      <th>...</th>\n",
       "      <td>...</td>\n",
       "      <td>...</td>\n",
       "      <td>...</td>\n",
       "    </tr>\n",
       "    <tr>\n",
       "      <th>110</th>\n",
       "      <td>West Africa</td>\n",
       "      <td>2018</td>\n",
       "      <td>23.430687</td>\n",
       "    </tr>\n",
       "    <tr>\n",
       "      <th>111</th>\n",
       "      <td>West Africa</td>\n",
       "      <td>2019</td>\n",
       "      <td>24.064118</td>\n",
       "    </tr>\n",
       "    <tr>\n",
       "      <th>112</th>\n",
       "      <td>West Africa</td>\n",
       "      <td>2020</td>\n",
       "      <td>24.708259</td>\n",
       "    </tr>\n",
       "    <tr>\n",
       "      <th>113</th>\n",
       "      <td>West Africa</td>\n",
       "      <td>2021</td>\n",
       "      <td>25.392146</td>\n",
       "    </tr>\n",
       "    <tr>\n",
       "      <th>114</th>\n",
       "      <td>West Africa</td>\n",
       "      <td>2022</td>\n",
       "      <td>26.095297</td>\n",
       "    </tr>\n",
       "  </tbody>\n",
       "</table>\n",
       "<p>115 rows × 3 columns</p>\n",
       "</div>"
      ],
      "text/plain": [
       "             Region  Year  Population (million)\n",
       "0    Central Africa  2000             11.832351\n",
       "1    Central Africa  2001             10.838584\n",
       "2    Central Africa  2002             11.164167\n",
       "3    Central Africa  2003             11.509321\n",
       "4    Central Africa  2004             11.872288\n",
       "..              ...   ...                   ...\n",
       "110     West Africa  2018             23.430687\n",
       "111     West Africa  2019             24.064118\n",
       "112     West Africa  2020             24.708259\n",
       "113     West Africa  2021             25.392146\n",
       "114     West Africa  2022             26.095297\n",
       "\n",
       "[115 rows x 3 columns]"
      ]
     },
     "execution_count": 54,
     "metadata": {},
     "output_type": "execute_result"
    }
   ],
   "source": [
    "Average_Regional_Population"
   ]
  },
  {
   "cell_type": "code",
   "execution_count": 55,
   "id": "4e5a4d30",
   "metadata": {},
   "outputs": [],
   "source": [
    "Avg_Reg_Pop_GDP= pd.concat([Average_Regional_Population, Average_Regional_GDP['GDP (billion USD)']], axis=1)"
   ]
  },
  {
   "cell_type": "code",
   "execution_count": 56,
   "id": "e7b56f26",
   "metadata": {},
   "outputs": [
    {
     "data": {
      "text/html": [
       "<div>\n",
       "<style scoped>\n",
       "    .dataframe tbody tr th:only-of-type {\n",
       "        vertical-align: middle;\n",
       "    }\n",
       "\n",
       "    .dataframe tbody tr th {\n",
       "        vertical-align: top;\n",
       "    }\n",
       "\n",
       "    .dataframe thead th {\n",
       "        text-align: right;\n",
       "    }\n",
       "</style>\n",
       "<table border=\"1\" class=\"dataframe\">\n",
       "  <thead>\n",
       "    <tr style=\"text-align: right;\">\n",
       "      <th></th>\n",
       "      <th>Region</th>\n",
       "      <th>Year</th>\n",
       "      <th>Population (million)</th>\n",
       "      <th>GDP (billion USD)</th>\n",
       "    </tr>\n",
       "  </thead>\n",
       "  <tbody>\n",
       "    <tr>\n",
       "      <th>0</th>\n",
       "      <td>Central Africa</td>\n",
       "      <td>2000</td>\n",
       "      <td>11.832351</td>\n",
       "      <td>6.305489</td>\n",
       "    </tr>\n",
       "    <tr>\n",
       "      <th>1</th>\n",
       "      <td>Central Africa</td>\n",
       "      <td>2001</td>\n",
       "      <td>10.838584</td>\n",
       "      <td>4.369812</td>\n",
       "    </tr>\n",
       "    <tr>\n",
       "      <th>2</th>\n",
       "      <td>Central Africa</td>\n",
       "      <td>2002</td>\n",
       "      <td>11.164167</td>\n",
       "      <td>5.520619</td>\n",
       "    </tr>\n",
       "    <tr>\n",
       "      <th>3</th>\n",
       "      <td>Central Africa</td>\n",
       "      <td>2003</td>\n",
       "      <td>11.509321</td>\n",
       "      <td>6.578686</td>\n",
       "    </tr>\n",
       "    <tr>\n",
       "      <th>4</th>\n",
       "      <td>Central Africa</td>\n",
       "      <td>2004</td>\n",
       "      <td>11.872288</td>\n",
       "      <td>8.369279</td>\n",
       "    </tr>\n",
       "    <tr>\n",
       "      <th>...</th>\n",
       "      <td>...</td>\n",
       "      <td>...</td>\n",
       "      <td>...</td>\n",
       "      <td>...</td>\n",
       "    </tr>\n",
       "    <tr>\n",
       "      <th>110</th>\n",
       "      <td>West Africa</td>\n",
       "      <td>2018</td>\n",
       "      <td>23.430687</td>\n",
       "      <td>40.762313</td>\n",
       "    </tr>\n",
       "    <tr>\n",
       "      <th>111</th>\n",
       "      <td>West Africa</td>\n",
       "      <td>2019</td>\n",
       "      <td>24.064118</td>\n",
       "      <td>44.562889</td>\n",
       "    </tr>\n",
       "    <tr>\n",
       "      <th>112</th>\n",
       "      <td>West Africa</td>\n",
       "      <td>2020</td>\n",
       "      <td>24.708259</td>\n",
       "      <td>42.251006</td>\n",
       "    </tr>\n",
       "    <tr>\n",
       "      <th>113</th>\n",
       "      <td>West Africa</td>\n",
       "      <td>2021</td>\n",
       "      <td>25.392146</td>\n",
       "      <td>44.477382</td>\n",
       "    </tr>\n",
       "    <tr>\n",
       "      <th>114</th>\n",
       "      <td>West Africa</td>\n",
       "      <td>2022</td>\n",
       "      <td>26.095297</td>\n",
       "      <td>46.727657</td>\n",
       "    </tr>\n",
       "  </tbody>\n",
       "</table>\n",
       "<p>115 rows × 4 columns</p>\n",
       "</div>"
      ],
      "text/plain": [
       "             Region  Year  Population (million)  GDP (billion USD)\n",
       "0    Central Africa  2000             11.832351           6.305489\n",
       "1    Central Africa  2001             10.838584           4.369812\n",
       "2    Central Africa  2002             11.164167           5.520619\n",
       "3    Central Africa  2003             11.509321           6.578686\n",
       "4    Central Africa  2004             11.872288           8.369279\n",
       "..              ...   ...                   ...                ...\n",
       "110     West Africa  2018             23.430687          40.762313\n",
       "111     West Africa  2019             24.064118          44.562889\n",
       "112     West Africa  2020             24.708259          42.251006\n",
       "113     West Africa  2021             25.392146          44.477382\n",
       "114     West Africa  2022             26.095297          46.727657\n",
       "\n",
       "[115 rows x 4 columns]"
      ]
     },
     "execution_count": 56,
     "metadata": {},
     "output_type": "execute_result"
    }
   ],
   "source": [
    "Avg_Reg_Pop_GDP"
   ]
  },
  {
   "cell_type": "code",
   "execution_count": 57,
   "id": "8e535a09",
   "metadata": {},
   "outputs": [],
   "source": [
    "#Gonna add a new column called GDP per Capita"
   ]
  },
  {
   "cell_type": "code",
   "execution_count": 58,
   "id": "6eaeb3f0",
   "metadata": {},
   "outputs": [],
   "source": [
    "Avg_Reg_Pop_GDP['GDP Per Capita']= Avg_Reg_Pop_GDP['GDP (billion USD)']*1000/Avg_Reg_Pop_GDP['Population (million)']"
   ]
  },
  {
   "cell_type": "code",
   "execution_count": 59,
   "id": "eb2677f4",
   "metadata": {},
   "outputs": [
    {
     "data": {
      "text/html": [
       "<div>\n",
       "<style scoped>\n",
       "    .dataframe tbody tr th:only-of-type {\n",
       "        vertical-align: middle;\n",
       "    }\n",
       "\n",
       "    .dataframe tbody tr th {\n",
       "        vertical-align: top;\n",
       "    }\n",
       "\n",
       "    .dataframe thead th {\n",
       "        text-align: right;\n",
       "    }\n",
       "</style>\n",
       "<table border=\"1\" class=\"dataframe\">\n",
       "  <thead>\n",
       "    <tr style=\"text-align: right;\">\n",
       "      <th></th>\n",
       "      <th>Region</th>\n",
       "      <th>Year</th>\n",
       "      <th>Population (million)</th>\n",
       "      <th>GDP (billion USD)</th>\n",
       "      <th>GDP Per Capita</th>\n",
       "    </tr>\n",
       "  </thead>\n",
       "  <tbody>\n",
       "    <tr>\n",
       "      <th>0</th>\n",
       "      <td>Central Africa</td>\n",
       "      <td>2000</td>\n",
       "      <td>11.832351</td>\n",
       "      <td>6.305489</td>\n",
       "      <td>532.902477</td>\n",
       "    </tr>\n",
       "    <tr>\n",
       "      <th>1</th>\n",
       "      <td>Central Africa</td>\n",
       "      <td>2001</td>\n",
       "      <td>10.838584</td>\n",
       "      <td>4.369812</td>\n",
       "      <td>403.171831</td>\n",
       "    </tr>\n",
       "    <tr>\n",
       "      <th>2</th>\n",
       "      <td>Central Africa</td>\n",
       "      <td>2002</td>\n",
       "      <td>11.164167</td>\n",
       "      <td>5.520619</td>\n",
       "      <td>494.494485</td>\n",
       "    </tr>\n",
       "    <tr>\n",
       "      <th>3</th>\n",
       "      <td>Central Africa</td>\n",
       "      <td>2003</td>\n",
       "      <td>11.509321</td>\n",
       "      <td>6.578686</td>\n",
       "      <td>571.596386</td>\n",
       "    </tr>\n",
       "    <tr>\n",
       "      <th>4</th>\n",
       "      <td>Central Africa</td>\n",
       "      <td>2004</td>\n",
       "      <td>11.872288</td>\n",
       "      <td>8.369279</td>\n",
       "      <td>704.942421</td>\n",
       "    </tr>\n",
       "    <tr>\n",
       "      <th>...</th>\n",
       "      <td>...</td>\n",
       "      <td>...</td>\n",
       "      <td>...</td>\n",
       "      <td>...</td>\n",
       "      <td>...</td>\n",
       "    </tr>\n",
       "    <tr>\n",
       "      <th>110</th>\n",
       "      <td>West Africa</td>\n",
       "      <td>2018</td>\n",
       "      <td>23.430687</td>\n",
       "      <td>40.762313</td>\n",
       "      <td>1739.697686</td>\n",
       "    </tr>\n",
       "    <tr>\n",
       "      <th>111</th>\n",
       "      <td>West Africa</td>\n",
       "      <td>2019</td>\n",
       "      <td>24.064118</td>\n",
       "      <td>44.562889</td>\n",
       "      <td>1851.839686</td>\n",
       "    </tr>\n",
       "    <tr>\n",
       "      <th>112</th>\n",
       "      <td>West Africa</td>\n",
       "      <td>2020</td>\n",
       "      <td>24.708259</td>\n",
       "      <td>42.251006</td>\n",
       "      <td>1709.995265</td>\n",
       "    </tr>\n",
       "    <tr>\n",
       "      <th>113</th>\n",
       "      <td>West Africa</td>\n",
       "      <td>2021</td>\n",
       "      <td>25.392146</td>\n",
       "      <td>44.477382</td>\n",
       "      <td>1751.619612</td>\n",
       "    </tr>\n",
       "    <tr>\n",
       "      <th>114</th>\n",
       "      <td>West Africa</td>\n",
       "      <td>2022</td>\n",
       "      <td>26.095297</td>\n",
       "      <td>46.727657</td>\n",
       "      <td>1790.654313</td>\n",
       "    </tr>\n",
       "  </tbody>\n",
       "</table>\n",
       "<p>115 rows × 5 columns</p>\n",
       "</div>"
      ],
      "text/plain": [
       "             Region  Year  Population (million)  GDP (billion USD)  \\\n",
       "0    Central Africa  2000             11.832351           6.305489   \n",
       "1    Central Africa  2001             10.838584           4.369812   \n",
       "2    Central Africa  2002             11.164167           5.520619   \n",
       "3    Central Africa  2003             11.509321           6.578686   \n",
       "4    Central Africa  2004             11.872288           8.369279   \n",
       "..              ...   ...                   ...                ...   \n",
       "110     West Africa  2018             23.430687          40.762313   \n",
       "111     West Africa  2019             24.064118          44.562889   \n",
       "112     West Africa  2020             24.708259          42.251006   \n",
       "113     West Africa  2021             25.392146          44.477382   \n",
       "114     West Africa  2022             26.095297          46.727657   \n",
       "\n",
       "     GDP Per Capita  \n",
       "0        532.902477  \n",
       "1        403.171831  \n",
       "2        494.494485  \n",
       "3        571.596386  \n",
       "4        704.942421  \n",
       "..              ...  \n",
       "110     1739.697686  \n",
       "111     1851.839686  \n",
       "112     1709.995265  \n",
       "113     1751.619612  \n",
       "114     1790.654313  \n",
       "\n",
       "[115 rows x 5 columns]"
      ]
     },
     "execution_count": 59,
     "metadata": {},
     "output_type": "execute_result"
    }
   ],
   "source": [
    "Avg_Reg_Pop_GDP"
   ]
  },
  {
   "cell_type": "code",
   "execution_count": 60,
   "id": "a546e769",
   "metadata": {},
   "outputs": [
    {
     "data": {
      "text/plain": [
       "291.5951048857369"
      ]
     },
     "execution_count": 60,
     "metadata": {},
     "output_type": "execute_result"
    }
   ],
   "source": [
    "Avg_Reg_Pop_GDP['GDP Per Capita'].min()"
   ]
  },
  {
   "cell_type": "code",
   "execution_count": 61,
   "id": "d47996e0",
   "metadata": {},
   "outputs": [],
   "source": [
    "Min_GDP_Per_Capita= Avg_Reg_Pop_GDP['GDP Per Capita'].idxmin()"
   ]
  },
  {
   "cell_type": "code",
   "execution_count": 62,
   "id": "772138b1",
   "metadata": {},
   "outputs": [],
   "source": [
    "Min_GDP_Per_Capita = Avg_Reg_Pop_GDP.loc[Min_GDP_Per_Capita]"
   ]
  },
  {
   "cell_type": "code",
   "execution_count": 63,
   "id": "1ed0bd96",
   "metadata": {},
   "outputs": [
    {
     "data": {
      "text/plain": [
       "Region                  East Africa\n",
       "Year                           2001\n",
       "Population (million)       15.52179\n",
       "GDP (billion USD)          4.526078\n",
       "GDP Per Capita           291.595105\n",
       "Name: 24, dtype: object"
      ]
     },
     "execution_count": 63,
     "metadata": {},
     "output_type": "execute_result"
    }
   ],
   "source": [
    "Min_GDP_Per_Capita"
   ]
  },
  {
   "cell_type": "code",
   "execution_count": 64,
   "id": "9086e65d",
   "metadata": {},
   "outputs": [
    {
     "data": {
      "text/plain": [
       "7080.296310019045"
      ]
     },
     "execution_count": 64,
     "metadata": {},
     "output_type": "execute_result"
    }
   ],
   "source": [
    "Avg_Reg_Pop_GDP['GDP Per Capita'].max()"
   ]
  },
  {
   "cell_type": "code",
   "execution_count": 65,
   "id": "53b36df5",
   "metadata": {},
   "outputs": [],
   "source": [
    "Max_GDP_Per_Capita= Avg_Reg_Pop_GDP['GDP Per Capita'].idxmax()"
   ]
  },
  {
   "cell_type": "code",
   "execution_count": 66,
   "id": "318d3979",
   "metadata": {},
   "outputs": [],
   "source": [
    "Max_GDP_Per_Capita = Avg_Reg_Pop_GDP.loc[Max_GDP_Per_Capita]"
   ]
  },
  {
   "cell_type": "code",
   "execution_count": 67,
   "id": "0b77efbe",
   "metadata": {},
   "outputs": [
    {
     "data": {
      "text/plain": [
       "Region                  South Africa\n",
       "Year                            2011\n",
       "Population (million)        11.94241\n",
       "GDP (billion USD)          84.555804\n",
       "GDP Per Capita            7080.29631\n",
       "Name: 80, dtype: object"
      ]
     },
     "execution_count": 67,
     "metadata": {},
     "output_type": "execute_result"
    }
   ],
   "source": [
    "Max_GDP_Per_Capita"
   ]
  },
  {
   "cell_type": "code",
   "execution_count": 68,
   "id": "05834502",
   "metadata": {},
   "outputs": [
    {
     "data": {
      "text/html": [
       "<div>\n",
       "<style scoped>\n",
       "    .dataframe tbody tr th:only-of-type {\n",
       "        vertical-align: middle;\n",
       "    }\n",
       "\n",
       "    .dataframe tbody tr th {\n",
       "        vertical-align: top;\n",
       "    }\n",
       "\n",
       "    .dataframe thead th {\n",
       "        text-align: right;\n",
       "    }\n",
       "</style>\n",
       "<table border=\"1\" class=\"dataframe\">\n",
       "  <thead>\n",
       "    <tr style=\"text-align: right;\">\n",
       "      <th></th>\n",
       "      <th>Region</th>\n",
       "      <th>Year</th>\n",
       "      <th>Population (million)</th>\n",
       "      <th>GDP (billion USD)</th>\n",
       "      <th>GDP Per Capita</th>\n",
       "    </tr>\n",
       "  </thead>\n",
       "  <tbody>\n",
       "    <tr>\n",
       "      <th>24</th>\n",
       "      <td>East Africa</td>\n",
       "      <td>2001</td>\n",
       "      <td>15.521790</td>\n",
       "      <td>4.526078</td>\n",
       "      <td>291.595105</td>\n",
       "    </tr>\n",
       "    <tr>\n",
       "      <th>23</th>\n",
       "      <td>East Africa</td>\n",
       "      <td>2000</td>\n",
       "      <td>15.087879</td>\n",
       "      <td>4.453740</td>\n",
       "      <td>295.186633</td>\n",
       "    </tr>\n",
       "    <tr>\n",
       "      <th>25</th>\n",
       "      <td>East Africa</td>\n",
       "      <td>2002</td>\n",
       "      <td>15.965565</td>\n",
       "      <td>4.760811</td>\n",
       "      <td>298.192439</td>\n",
       "    </tr>\n",
       "    <tr>\n",
       "      <th>26</th>\n",
       "      <td>East Africa</td>\n",
       "      <td>2003</td>\n",
       "      <td>16.420723</td>\n",
       "      <td>5.275756</td>\n",
       "      <td>321.286433</td>\n",
       "    </tr>\n",
       "    <tr>\n",
       "      <th>27</th>\n",
       "      <td>East Africa</td>\n",
       "      <td>2004</td>\n",
       "      <td>16.887479</td>\n",
       "      <td>5.866003</td>\n",
       "      <td>347.358105</td>\n",
       "    </tr>\n",
       "    <tr>\n",
       "      <th>28</th>\n",
       "      <td>East Africa</td>\n",
       "      <td>2005</td>\n",
       "      <td>17.368736</td>\n",
       "      <td>6.720624</td>\n",
       "      <td>386.938010</td>\n",
       "    </tr>\n",
       "    <tr>\n",
       "      <th>1</th>\n",
       "      <td>Central Africa</td>\n",
       "      <td>2001</td>\n",
       "      <td>10.838584</td>\n",
       "      <td>4.369812</td>\n",
       "      <td>403.171831</td>\n",
       "    </tr>\n",
       "    <tr>\n",
       "      <th>29</th>\n",
       "      <td>East Africa</td>\n",
       "      <td>2006</td>\n",
       "      <td>17.863066</td>\n",
       "      <td>7.950878</td>\n",
       "      <td>445.101510</td>\n",
       "    </tr>\n",
       "    <tr>\n",
       "      <th>92</th>\n",
       "      <td>West Africa</td>\n",
       "      <td>2000</td>\n",
       "      <td>14.363780</td>\n",
       "      <td>6.809463</td>\n",
       "      <td>474.071842</td>\n",
       "    </tr>\n",
       "    <tr>\n",
       "      <th>93</th>\n",
       "      <td>West Africa</td>\n",
       "      <td>2001</td>\n",
       "      <td>14.749344</td>\n",
       "      <td>7.256060</td>\n",
       "      <td>491.958119</td>\n",
       "    </tr>\n",
       "  </tbody>\n",
       "</table>\n",
       "</div>"
      ],
      "text/plain": [
       "            Region  Year  Population (million)  GDP (billion USD)  \\\n",
       "24     East Africa  2001             15.521790           4.526078   \n",
       "23     East Africa  2000             15.087879           4.453740   \n",
       "25     East Africa  2002             15.965565           4.760811   \n",
       "26     East Africa  2003             16.420723           5.275756   \n",
       "27     East Africa  2004             16.887479           5.866003   \n",
       "28     East Africa  2005             17.368736           6.720624   \n",
       "1   Central Africa  2001             10.838584           4.369812   \n",
       "29     East Africa  2006             17.863066           7.950878   \n",
       "92     West Africa  2000             14.363780           6.809463   \n",
       "93     West Africa  2001             14.749344           7.256060   \n",
       "\n",
       "    GDP Per Capita  \n",
       "24      291.595105  \n",
       "23      295.186633  \n",
       "25      298.192439  \n",
       "26      321.286433  \n",
       "27      347.358105  \n",
       "28      386.938010  \n",
       "1       403.171831  \n",
       "29      445.101510  \n",
       "92      474.071842  \n",
       "93      491.958119  "
      ]
     },
     "execution_count": 68,
     "metadata": {},
     "output_type": "execute_result"
    }
   ],
   "source": [
    "Avg_Reg_Pop_GDP.sort_values('GDP Per Capita').head(10)"
   ]
  },
  {
   "cell_type": "code",
   "execution_count": 69,
   "id": "9a8ec2ac",
   "metadata": {},
   "outputs": [
    {
     "data": {
      "text/html": [
       "<div>\n",
       "<style scoped>\n",
       "    .dataframe tbody tr th:only-of-type {\n",
       "        vertical-align: middle;\n",
       "    }\n",
       "\n",
       "    .dataframe tbody tr th {\n",
       "        vertical-align: top;\n",
       "    }\n",
       "\n",
       "    .dataframe thead th {\n",
       "        text-align: right;\n",
       "    }\n",
       "</style>\n",
       "<table border=\"1\" class=\"dataframe\">\n",
       "  <thead>\n",
       "    <tr style=\"text-align: right;\">\n",
       "      <th></th>\n",
       "      <th>Region</th>\n",
       "      <th>Year</th>\n",
       "      <th>Population (million)</th>\n",
       "      <th>GDP (billion USD)</th>\n",
       "      <th>GDP Per Capita</th>\n",
       "    </tr>\n",
       "  </thead>\n",
       "  <tbody>\n",
       "    <tr>\n",
       "      <th>88</th>\n",
       "      <td>South Africa</td>\n",
       "      <td>2019</td>\n",
       "      <td>13.459848</td>\n",
       "      <td>74.422219</td>\n",
       "      <td>5529.201924</td>\n",
       "    </tr>\n",
       "    <tr>\n",
       "      <th>86</th>\n",
       "      <td>South Africa</td>\n",
       "      <td>2017</td>\n",
       "      <td>13.090645</td>\n",
       "      <td>72.457319</td>\n",
       "      <td>5535.045788</td>\n",
       "    </tr>\n",
       "    <tr>\n",
       "      <th>91</th>\n",
       "      <td>South Africa</td>\n",
       "      <td>2022</td>\n",
       "      <td>14.011895</td>\n",
       "      <td>77.819240</td>\n",
       "      <td>5553.798489</td>\n",
       "    </tr>\n",
       "    <tr>\n",
       "      <th>83</th>\n",
       "      <td>South Africa</td>\n",
       "      <td>2014</td>\n",
       "      <td>12.513344</td>\n",
       "      <td>72.577348</td>\n",
       "      <td>5799.996299</td>\n",
       "    </tr>\n",
       "    <tr>\n",
       "      <th>90</th>\n",
       "      <td>South Africa</td>\n",
       "      <td>2021</td>\n",
       "      <td>13.825573</td>\n",
       "      <td>80.948786</td>\n",
       "      <td>5855.003968</td>\n",
       "    </tr>\n",
       "    <tr>\n",
       "      <th>87</th>\n",
       "      <td>South Africa</td>\n",
       "      <td>2018</td>\n",
       "      <td>13.276385</td>\n",
       "      <td>79.375313</td>\n",
       "      <td>5978.684176</td>\n",
       "    </tr>\n",
       "    <tr>\n",
       "      <th>82</th>\n",
       "      <td>South Africa</td>\n",
       "      <td>2013</td>\n",
       "      <td>12.317066</td>\n",
       "      <td>75.542789</td>\n",
       "      <td>6133.180552</td>\n",
       "    </tr>\n",
       "    <tr>\n",
       "      <th>79</th>\n",
       "      <td>South Africa</td>\n",
       "      <td>2010</td>\n",
       "      <td>11.771085</td>\n",
       "      <td>76.691306</td>\n",
       "      <td>6515.228505</td>\n",
       "    </tr>\n",
       "    <tr>\n",
       "      <th>81</th>\n",
       "      <td>South Africa</td>\n",
       "      <td>2012</td>\n",
       "      <td>12.124937</td>\n",
       "      <td>80.971604</td>\n",
       "      <td>6678.105291</td>\n",
       "    </tr>\n",
       "    <tr>\n",
       "      <th>80</th>\n",
       "      <td>South Africa</td>\n",
       "      <td>2011</td>\n",
       "      <td>11.942410</td>\n",
       "      <td>84.555804</td>\n",
       "      <td>7080.296310</td>\n",
       "    </tr>\n",
       "  </tbody>\n",
       "</table>\n",
       "</div>"
      ],
      "text/plain": [
       "          Region  Year  Population (million)  GDP (billion USD)  \\\n",
       "88  South Africa  2019             13.459848          74.422219   \n",
       "86  South Africa  2017             13.090645          72.457319   \n",
       "91  South Africa  2022             14.011895          77.819240   \n",
       "83  South Africa  2014             12.513344          72.577348   \n",
       "90  South Africa  2021             13.825573          80.948786   \n",
       "87  South Africa  2018             13.276385          79.375313   \n",
       "82  South Africa  2013             12.317066          75.542789   \n",
       "79  South Africa  2010             11.771085          76.691306   \n",
       "81  South Africa  2012             12.124937          80.971604   \n",
       "80  South Africa  2011             11.942410          84.555804   \n",
       "\n",
       "    GDP Per Capita  \n",
       "88     5529.201924  \n",
       "86     5535.045788  \n",
       "91     5553.798489  \n",
       "83     5799.996299  \n",
       "90     5855.003968  \n",
       "87     5978.684176  \n",
       "82     6133.180552  \n",
       "79     6515.228505  \n",
       "81     6678.105291  \n",
       "80     7080.296310  "
      ]
     },
     "execution_count": 69,
     "metadata": {},
     "output_type": "execute_result"
    }
   ],
   "source": [
    "Avg_Reg_Pop_GDP.sort_values('GDP Per Capita').tail(10)"
   ]
  },
  {
   "cell_type": "code",
   "execution_count": 70,
   "id": "8bd1e526",
   "metadata": {},
   "outputs": [],
   "source": [
    "correlation = Avg_Reg_Pop_GDP['Population (million)'].corr(Avg_Reg_Pop_GDP['GDP (billion USD)'])"
   ]
  },
  {
   "cell_type": "code",
   "execution_count": 72,
   "id": "8903b74d",
   "metadata": {},
   "outputs": [
    {
     "data": {
      "text/plain": [
       "0.6536580085653059"
      ]
     },
     "execution_count": 72,
     "metadata": {},
     "output_type": "execute_result"
    }
   ],
   "source": [
    "correlation"
   ]
  },
  {
   "cell_type": "code",
   "execution_count": 73,
   "id": "c147f731",
   "metadata": {},
   "outputs": [],
   "source": [
    "corre= Africa['Population'].corr(Africa['GDP (USD)'])"
   ]
  },
  {
   "cell_type": "code",
   "execution_count": 74,
   "id": "8e25af1b",
   "metadata": {},
   "outputs": [
    {
     "data": {
      "text/plain": [
       "0.7491681019866325"
      ]
     },
     "execution_count": 74,
     "metadata": {},
     "output_type": "execute_result"
    }
   ],
   "source": [
    "corre"
   ]
  },
  {
   "cell_type": "code",
   "execution_count": null,
   "id": "bb042b87",
   "metadata": {},
   "outputs": [],
   "source": []
  }
 ],
 "metadata": {
  "kernelspec": {
   "display_name": "Python 3 (ipykernel)",
   "language": "python",
   "name": "python3"
  },
  "language_info": {
   "codemirror_mode": {
    "name": "ipython",
    "version": 3
   },
   "file_extension": ".py",
   "mimetype": "text/x-python",
   "name": "python",
   "nbconvert_exporter": "python",
   "pygments_lexer": "ipython3",
   "version": "3.9.7"
  }
 },
 "nbformat": 4,
 "nbformat_minor": 5
}
